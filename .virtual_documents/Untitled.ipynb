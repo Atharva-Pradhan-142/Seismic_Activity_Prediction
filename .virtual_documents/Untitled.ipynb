import pandas as pd
import numpy as np
import matplotlib.pyplot as plt
import seaborn as sns

# For machine learning
from sklearn.model_selection import train_test_split
from sklearn.ensemble import RandomForestRegressor
from sklearn.metrics import mean_squared_error, r2_score
from sklearn.preprocessing import OneHotEncoder


# Load the new dataset
file_path = 'synthetic_earthquake_data_v2.csv'
df = pd.read_csv(file_path)


# Data overview
print(df.info())
print(df.head())


# Exploratory Data Analysis (EDA)
sns.pairplot(df, hue='Seismic_Activity_Level')
plt.show()


# Feature selection and encoding
encoder = OneHotEncoder()
categorical_cols = ['Tectonic_Plate_Region', 'Seismic_Activity_Level', 'Fault_Type']
encoded_features = encoder.fit_transform(df[categorical_cols]).toarray()


# Combine encoded features with numerical data
numerical_cols = ['Latitude', 'Longitude', 'Depth_km', 'Foreshock_Count', 'Aftershock_Count', 'Energy_Released_Joules', 'Magnitude']
X = np.concatenate([encoded_features, df[numerical_cols].values], axis=1)
y = df['Magnitude']


# Train-test split
X_train, X_test, y_train, y_test = train_test_split(X, y, test_size=0.2, random_state=42)


# Model training
model = RandomForestRegressor()
model.fit(X_train, y_train)


# Predictions and evaluation
y_pred = model.predict(X_test)
print('MSE:', mean_squared_error(y_test, y_pred))
print('R2 Score:', r2_score(y_test, y_pred))



